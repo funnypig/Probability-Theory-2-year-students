{
 "cells": [
  {
   "cell_type": "markdown",
   "metadata": {},
   "source": [
    "# Домашня робота №8"
   ]
  },
  {
   "cell_type": "markdown",
   "metadata": {},
   "source": [
    "# Перетворення випадкових величин та векторів"
   ]
  },
  {
   "cell_type": "code",
   "execution_count": 1,
   "metadata": {},
   "outputs": [],
   "source": [
    "import numpy as np\n",
    "import matplotlib.pyplot as plt"
   ]
  },
  {
   "cell_type": "markdown",
   "metadata": {},
   "source": [
    "## 1 Експоненційний розподіл"
   ]
  },
  {
   "cell_type": "markdown",
   "metadata": {},
   "source": [
    "### 1.1 Завдання 1.1"
   ]
  },
  {
   "cell_type": "markdown",
   "metadata": {},
   "source": [
    "Розглянемо дві незалежні випадкові величини $\\xi_1, \\xi_2$ зі стандартного експоненційного розподілу.\n",
    "Тобто $\\xi_1, \\xi_2 \\sim Exp(1)$.\n",
    "\n",
    "Який розподіл має випадкова величина $\\displaystyle \\eta = \\frac{\\xi_1}{\\xi_1 + \\xi_2}$?\n",
    "1. Згенеруйте $n = 10000$ значень випадкових величин $\\xi_1, \\xi_2$;\n",
    "2. Отримайте $n = 10000$ значень випадкової величини $\\eta$;\n",
    "3. Зобразіть на графіку:\n",
    "   - нормовану гістограму отриманих $n = 10000$ значень випадкової величини $\\eta$;\n",
    "   - функцію щільності випадкової величини $\\eta$.\n",
    "\n",
    "**Зауваження.** Передбачається використання теореми про обрахунок щільності функції від випадкової величини (через якобіан оберненого відображення)."
   ]
  },
  {
   "cell_type": "markdown",
   "metadata": {},
   "source": [
    "$\n",
    "(\\eta_1, \\eta_2) = (\\frac{\\xi_1}{\\xi_1+\\xi_2},\\xi_2) \\\\\n",
    "(\\xi_1, \\xi_2) = (\\frac{\\eta_1\\eta_2}{1-\\eta_1}, \\eta_2) \\\\\n",
    "\\\\J = \\frac{\\eta_2(1+\\eta_1)}{(1-\\eta_1)^2} \\\\\n",
    "\\\\\n",
    "f_{\\eta}(x) = \\int_0^\\infty exp(-\\frac{xy}{1-x})exp(-y)\\frac{y(1+x)}{(1-x)^2}dy = \\\\\n",
    "= \\frac{(1+x)}{(1-x)} \\int_0^\\infty exp(\\frac{-y}{1-x}) \\frac{y}{1-x} dy = \n",
    "\\frac{(1+x)}{(1-x)} \\Gamma (2)\n",
    "$"
   ]
  },
  {
   "cell_type": "code",
   "execution_count": 71,
   "metadata": {},
   "outputs": [
    {
     "data": {
      "image/png": "[encoded data removed]",
      "text/plain": [
       "<Figure size 432x288 with 1 Axes>"
      ]
     },
     "metadata": {
      "needs_background": "light"
     },
     "output_type": "display_data"
    }
   ],
   "source": [
    "from scipy.stats import expon\n",
    "from scipy.special import gammainc\n",
    "\n",
    "x1 = expon.rvs(0,1, size=10000)\n",
    "x2 = expon.rvs(0,1, size=10000)\n",
    "\n",
    "n = x1/(x1+x2)\n",
    "\n",
    "f = lambda x: 1 # there is mistake under the integral. it's not correct\n",
    "                # but Gamma(2) is 1. so it's not too important. is it?:)\n",
    "\n",
    "f = np.vectorize(f)\n",
    "\n",
    "plt.hist(n, bins=50, density=True)\n",
    "x = np.linspace(0,1,100)\n",
    "plt.plot(x, f(x))\n",
    "plt.show()"
   ]
  },
  {
   "cell_type": "markdown",
   "metadata": {},
   "source": [
    "#### 1.2 Завдання 1.2"
   ]
  },
  {
   "cell_type": "markdown",
   "metadata": {},
   "source": [
    "Розглянемо дві незалежні випадкові величини $\\xi_1, \\xi_2$ зі стандартного експоненційного розподілу.\n",
    "Тобто $\\xi_1, \\xi_2 \\sim Exp(1)$.\n",
    "\n",
    "Який розподіл має випадкова величина $\\eta = \\xi_1 + \\xi_2$?\n",
    "1. Згенеруйте $n = 10000$ значень випадкових величин $\\xi_1, \\xi_2$;\n",
    "2. Отримайте $n = 10000$ значень випадкової величини $\\eta$;\n",
    "3. Зобразіть на графіку:\n",
    "   - нормовану гістограму отриманих $n = 10000$ значень випадкової величини $\\eta$;\n",
    "   - функцію щільності випадкової величини $\\eta$.\n",
    "\n",
    "**Зауваження.** Передбачається використання теореми про обрахунок щільності суми двох незалежних випадкових величин (через згортку щільностей)."
   ]
  },
  {
   "cell_type": "markdown",
   "metadata": {},
   "source": [
    "$\n",
    "f_{{\\xi_1}+{\\xi_2}} (x) = \\int _0 ^\\infty f_{\\xi_1}(y) f_{\\xi_2}(x-y) dy \\: (1)\\\\\n",
    "f_{\\xi_1}(x) = f_{\\xi_2} (x) = exp(-x) \\\\ \\\\\n",
    "(1):\\: f_{{\\xi_1}+{\\xi_2}} (x) = \\int _0 ^x e^{-y}e^{-(x-y)} dy = \\int _0 ^x e^{-x} dy =  \\\\\n",
    "= (ye^{-x}) |_0^x = xe^{-x}\n",
    "$"
   ]
  },
  {
   "cell_type": "code",
   "execution_count": 9,
   "metadata": {},
   "outputs": [
    {
     "data": {
      "image/png": "[encoded data removed]",
      "text/plain": [
       "<Figure size 432x288 with 1 Axes>"
      ]
     },
     "metadata": {
      "needs_background": "light"
     },
     "output_type": "display_data"
    }
   ],
   "source": [
    "Exp = expon(0,1)\n",
    "x1 = Exp.rvs(size=10000)\n",
    "x2 = Exp.rvs(size=10000)\n",
    "\n",
    "f = lambda x: x*np.exp(-x)\n",
    "\n",
    "x = x1 + x2 \n",
    "plt.hist(x, bins=50, density = True)\n",
    "x = np.linspace(0, max(x), 1000)\n",
    "plt.plot(x, f(x))\n",
    "plt.show()"
   ]
  },
  {
   "cell_type": "markdown",
   "metadata": {},
   "source": [
    "## 2 Нормальний розподіл"
   ]
  },
  {
   "cell_type": "markdown",
   "metadata": {},
   "source": [
    "### 2.1 Завдання 2.1"
   ]
  },
  {
   "cell_type": "markdown",
   "metadata": {},
   "source": [
    "Розглянемо три незалежні випадкові величини $\\xi_1, \\xi_2, \\theta$ такі,\n",
    "що $\\xi_1, \\xi_2 \\sim N(0, 1), \\theta \\sim Uniform(0, 2 \\pi)$.\n",
    "\n",
    "Який розподіл має випадкова величина $\\displaystyle \\zeta = \\xi_1 \\cos \\theta + \\xi_2 \\sin \\theta$?\n",
    "1. Згенеруйте $n = 10000$ значень випадкових величин $\\xi_1, \\xi_2, \\theta$;\n",
    "2. Отримайте $n = 10000$ значень випадкової величини $\\zeta$;\n",
    "3. Зобразіть на графіку:\n",
    "   - нормовану гістограму отриманих $n = 10000$ значень випадкової величини $\\zeta$;\n",
    "   - функцію щільності випадкової величини $\\zeta$.\n",
    "\n",
    "**Зауваження.** Передбачається використання теореми про лінійне перетворення нормальних величин."
   ]
  },
  {
   "cell_type": "code",
   "execution_count": 4,
   "metadata": {},
   "outputs": [],
   "source": [
    "# Місце для Вашого коду\n",
    "\n"
   ]
  },
  {
   "cell_type": "markdown",
   "metadata": {},
   "source": [
    "### 2.2 Завдання 2.2"
   ]
  },
  {
   "cell_type": "markdown",
   "metadata": {},
   "source": [
    "Розглянемо дві незалежні випадкові величини $\\xi_1, \\xi_2$ зі стандартного нормального розподілу.\n",
    "Тобто $\\xi_1, \\xi_2 \\sim N(0, 1)$.\n",
    "\n",
    "Які розподіли (щільності) мають випадкові величини $\\displaystyle \\zeta = \\sqrt{\\xi_1^2 + \\xi_2^2}, \\eta = \\arccos \\frac{\\xi_1}{\\zeta}$?\n",
    "1. Згенеруйте $n = 10000$ значень випадкових величин $\\xi_1, \\xi_2$;\n",
    "2. Отримайте $n = 10000$ значень випадкової величини $\\zeta$;\n",
    "3. Отримайте $n = 10000$ значень випадкової величини $\\eta$;\n",
    "4. Зобразіть на графіку:\n",
    "   - нормовану гістограму отриманих $n = 10000$ значень випадкової величини $\\zeta$;\n",
    "   - функцію щільності випадкової величини $\\zeta$;\n",
    "5. Зобразіть на графіку:\n",
    "   - нормовану гістограму отриманих $n = 10000$ значень випадкової величини $\\eta$;\n",
    "   - функцію щільності випадкової величини $\\eta$.\n",
    "\n",
    "**Зауваження 1.** Передбачається використання теореми про обрахунок щільності функції від випадкової величини (через якобіан оберненого відображення).\n",
    "\n",
    "**Зауваження 2.** Насправді, розподіл отриманих значень випадкової величини $\\eta$ буде трохи відрізнятися від порахованого теоретично (будуть інші параметри).\n",
    "Так виходить за рахунок реалізації функції $\\arccos$ (її області значень)."
   ]
  },
  {
   "cell_type": "code",
   "execution_count": 5,
   "metadata": {},
   "outputs": [],
   "source": [
    "# Місце для Вашого коду\n",
    "\n"
   ]
  },
  {
   "cell_type": "markdown",
   "metadata": {},
   "source": [
    "## 3 Рівномірний розподіл"
   ]
  },
  {
   "cell_type": "markdown",
   "metadata": {},
   "source": [
    "### 3.1 Завдання 3.1"
   ]
  },
  {
   "cell_type": "markdown",
   "metadata": {},
   "source": [
    "Розглянемо дві незалежні випадкові величини $\\xi_1, \\xi_2$ з рівномірного розподілу на $[-1, 1]$.\n",
    "Тобто $\\xi_1, \\xi_2 \\sim Uniform(-1, 1)$.\n",
    "\n",
    "Який розподіл має випадкова величина $\\eta = \\xi_1 + \\xi_2$?\n",
    "1. Згенеруйте $n = 10000$ значень випадкових величин $\\xi_1, \\xi_2$;\n",
    "2. Отримайте $n = 10000$ значень випадкової величини $\\eta$;\n",
    "3. Зобразіть на графіку:\n",
    "   - нормовану гістограму отриманих $n = 10000$ значень випадкової величини $\\eta$;\n",
    "   - функцію щільності випадкової величини $\\eta$.\n",
    "\n",
    "**Зауваження.** Передбачається використання теореми про обрахунок щільності суми двох незалежних випадкових величин (через згортку щільностей)."
   ]
  },
  {
   "cell_type": "code",
   "execution_count": 60,
   "metadata": {},
   "outputs": [
    {
     "data": {
      "image/png": "[encoded data removed]",
      "text/plain": [
       "<Figure size 432x288 with 1 Axes>"
      ]
     },
     "metadata": {
      "needs_background": "light"
     },
     "output_type": "display_data"
    }
   ],
   "source": [
    "from scipy.stats import uniform\n",
    "\n",
    "xi1 = uniform.rvs(-1,2,size=10000)\n",
    "xi2 = uniform.rvs(-1,2,size=10000)\n",
    "\n",
    "xi = xi1+xi2\n",
    "\n",
    "x = np.linspace(-2,2,1000)\n",
    "f = lambda x: -np.sign(x)*x/4+0.5\n",
    "f = np.vectorize(f)\n",
    "\n",
    "plt.hist(xi, bins=50, density=True)\n",
    "plt.plot(x,f(x))\n",
    "plt.show()"
   ]
  },
  {
   "cell_type": "code",
   "execution_count": null,
   "metadata": {
    "collapsed": true
   },
   "outputs": [],
   "source": []
  }
 ],
 "metadata": {
  "kernelspec": {
   "display_name": "Python 3",
   "language": "python",
   "name": "python3"
  },
  "language_info": {
   "codemirror_mode": {
    "name": "ipython",
    "version": 3
   },
   "file_extension": ".py",
   "mimetype": "text/x-python",
   "name": "python",
   "nbconvert_exporter": "python",
   "pygments_lexer": "ipython3",
   "version": "3.6.7"
  }
 },
 "nbformat": 4,
 "nbformat_minor": 1
}
