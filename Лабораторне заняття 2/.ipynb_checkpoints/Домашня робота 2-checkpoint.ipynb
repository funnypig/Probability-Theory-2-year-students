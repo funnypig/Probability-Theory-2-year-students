{
 "cells": [
  {
   "cell_type": "markdown",
   "metadata": {},
   "source": [
    "# Домашня робота №2"
   ]
  },
  {
   "cell_type": "markdown",
   "metadata": {},
   "source": [
    "## 1 Пароль\n",
    "Напишіть програму (функцію) для генерування випадкового пароля з такими обмеженнями:\n",
    "- пароль складається з рівно $10$ символів\n",
    "- пароль містить хоча б одну маленьку латинську літеру [a-z]\n",
    "- пароль містить хоча б одну велику латинську літеру [A-Z]\n",
    "- пароль містить хоча б одну цифру [0-9]\n",
    "- пароль містить хоча б один спеціальний символ [~!@#$%^&*()-_+=\\/{}[].,?<>:;]"
   ]
  },
  {
   "cell_type": "code",
   "execution_count": 16,
   "metadata": {},
   "outputs": [
    {
     "data": {
      "text/plain": [
       "'v{6k5G0@l8'"
      ]
     },
     "execution_count": 16,
     "metadata": {},
     "output_type": "execute_result"
    }
   ],
   "source": [
    "from random import choice, shuffle\n",
    "\n",
    "low = [chr(i) for i in range(ord('a'),ord('z')+1)]\n",
    "up = [chr(i) for i in range(ord('A'), ord('Z')+1)]\n",
    "digit = [str(i) for i in range(10)]\n",
    "symbol = list('[~!@#$%^&*()-_+=/{}[].,?<>:;]')\n",
    "\n",
    "symbols = [low, up, digit, symbol]\n",
    "\n",
    "password = choice(low) + choice(up) + choice(digit) + choice(symbol)\n",
    "\n",
    "for i in range(6):\n",
    "    password += choice(choice(symbols))\n",
    "\n",
    "password = list(password)\n",
    "shuffle(password)\n",
    "password = ''.join(password)\n",
    "\n",
    "password"
   ]
  },
  {
   "cell_type": "markdown",
   "metadata": {},
   "source": [
    "## 2 Герби в ряд\n",
    "Реалізуйте функцію для обчислення емпіричної та теоретичної імовірностей випадіння $k$ гербів (HEADS) підряд у серії з $n$ підкидань чесної монетки. Підрахуйте відповідні ймовірності для таких параметрів:\n",
    "- $k = 2, n = 10, 50, 100, 500, 1000, 5000, 10000$\n",
    "- $k = 3, n = 10, 50, 100, 500, 1000, 5000, 10000$\n",
    "\n",
    "**Зауваження.** Нехай $k = 2, n = 10$ та маємо таку послідовність результатів підкидання монети: $\\{ H, T, H, H, H, H, T, T, H, T \\}$. Тоді матимемо $3$ випадки випадіння двох гербів підряд та емпіричну ймовірність такої події $1/3$."
   ]
  },
  {
   "cell_type": "code",
   "execution_count": 14,
   "metadata": {
    "scrolled": true
   },
   "outputs": [
    {
     "name": "stdout",
     "output_type": "stream",
     "text": [
      "n = 10; k = 2\n",
      "Empiric probability: 0.2375\n",
      "Analytic probability: 0.375\n",
      "\n",
      "n = 15; k = 2\n",
      "Empiric probability: 0.2469230769230769\n",
      "Analytic probability: 0.375\n",
      "\n",
      "n = 20; k = 2\n",
      "Empiric probability: 0.24444444444444444\n",
      "Analytic probability: 0.375\n",
      "\n",
      "n = 10; k = 3\n",
      "Empiric probability: 0.13\n",
      "Analytic probability: 0.25\n",
      "\n",
      "n = 15; k = 3\n",
      "Empiric probability: 0.1075\n",
      "Analytic probability: 0.25\n",
      "\n",
      "n = 20; k = 3\n",
      "Empiric probability: 0.1223529411764706\n",
      "Analytic probability: 0.25\n",
      "\n"
     ]
    }
   ],
   "source": [
    "from random import randint\n",
    "import numpy as np\n",
    "from itertools import product\n",
    "\n",
    "l = [10, 15, 20] #,50,100] #,500,1000,5000,10000] TOO LONG\n",
    "\n",
    "def emp(n,k):\n",
    "    successEvents = 0\n",
    "    allEvents = 0\n",
    "    \n",
    "    for tests in range(100):\n",
    "        events = np.random.choice([1,0], n)\n",
    "    \n",
    "        for i in range(k,n):\n",
    "            if sum(events[i-k:i])==k: \n",
    "                successEvents += 1\n",
    "            allEvents+=1\n",
    "        \n",
    "    print('Empiric probability: {}'.format((successEvents+0.0)/allEvents))\n",
    "\n",
    "\n",
    "def analytic(n,k):\n",
    "    successEvents = 0\n",
    "    allEvents = 0\n",
    "    \n",
    "    for p in product([1,0], repeat=n):\n",
    "        subList = list(p)[:k]\n",
    "        subList.insert(0,0) # neutral element to pop without loss\n",
    "            \n",
    "        for i in range(k,n):\n",
    "            subList.pop(0)\n",
    "            subList.append(p[i])\n",
    "            if sum(subList) == k:\n",
    "                successEvents += 1\n",
    "            allEvents+=1\n",
    "    \n",
    "    print('Analytic probability: {}'.format(successEvents/allEvents))\n",
    "\n",
    "        \n",
    "k = 2\n",
    "for i in l:\n",
    "    print('n = {}; k = {}'.format(i,k))\n",
    "    emp(i,k)\n",
    "    analytic(i,k)\n",
    "    print()\n",
    "k = 3\n",
    "for i in l:\n",
    "    print('n = {}; k = {}'.format(i,k))\n",
    "    emp(i,k)\n",
    "    analytic(i,k)\n",
    "    print()"
   ]
  },
  {
   "cell_type": "markdown",
   "metadata": {},
   "source": [
    "## 3 Найбільше число\n",
    "Реалізуйте функцію підрахунку точної (теоретичної) імовірності того, що максимальне число після $n$ кидків звичайного грального кубика дорівнює $x\\_max$, для таких параметрів:\n",
    "- $n = 3, x\\_max = 6$\n",
    "- $n = 2, x\\_max = 3$\n",
    "- $n = 3, x\\_max = 5$\n",
    "\n",
    "Тобто, якщо $X_i, i = 1, \\ldots, n$, - число на $i$-му кидку кубика, а $X = \\max\\limits_{1 \\leq i \\leq n} X_i$, то потрібно знайти ймовірність $\\textbf{P} \\left( X = x\\_max \\right)$.\n",
    "\n",
    "Підрахуйте також емпіричні ймовірності відповідних подій у випадку $10000$ симуляцій.\n",
    "\n",
    "**Зауваження.** Якщо введені параметри не мають сенсу, то повертати $0$.\n",
    "Тобто, якщо вводиться $x\\_max < 1$ або $x\\_max > 6$."
   ]
  },
  {
   "cell_type": "code",
   "execution_count": 23,
   "metadata": {},
   "outputs": [
    {
     "name": "stdout",
     "output_type": "stream",
     "text": [
      "n = 3; x_max = 6\n",
      "Analytic probability: 0.4212962962962963\n",
      "\n",
      "n = 3; x_max = 6\n",
      "Empiric probability: 0.42288\n",
      "\n",
      "n = 2; x_max = 3\n",
      "Analytic probability: 0.1388888888888889\n",
      "\n",
      "n = 2; x_max = 3\n",
      "Empiric probability: 0.13782\n",
      "\n",
      "n = 3; x_max = 5\n",
      "Analytic probability: 0.2824074074074074\n",
      "\n",
      "n = 3; x_max = 5\n",
      "Empiric probability: 0.28164\n",
      "\n"
     ]
    }
   ],
   "source": [
    "test = [(3,6), (2,3), (3,5)]\n",
    "\n",
    "def analytic(n, x_max):\n",
    "    success = 0\n",
    "    allEvents = 0\n",
    "    \n",
    "    for p in product([i for i in range(1,7)], repeat=n):\n",
    "        allEvents+=1\n",
    "        if max(p) == x_max:\n",
    "            success+=1\n",
    "    \n",
    "    print('n = {}; x_max = {}'.format(n,x_max))\n",
    "    print('Analytic probability:',success/allEvents)\n",
    "    print()\n",
    "\n",
    "def empiric(n, x_max):\n",
    "    success = 0\n",
    "    allEvents = 0\n",
    "    \n",
    "    events = [i for i in range(1,7)]\n",
    "    \n",
    "    for i in range(10**5):\n",
    "        evs = np.random.choice(events, n)\n",
    "        \n",
    "        allEvents+=1\n",
    "        if max(evs) == x_max:\n",
    "            success+=1\n",
    "    \n",
    "    print('n = {}; x_max = {}'.format(n,x_max))\n",
    "    print('Empiric probability:',success/allEvents)\n",
    "    print()\n",
    "\n",
    "for t in test:\n",
    "    analytic(*t)\n",
    "    empiric(*t)"
   ]
  },
  {
   "cell_type": "markdown",
   "metadata": {},
   "source": [
    "## 4 Сума чисел\n",
    "Реалізуйте функцію підрахунку точної (теоретичної) імовірності того, що сума чисел після $n$ кидків звичайного грального кубика дорівнює $s$, для таких параметрів:\n",
    "- $n = 3, s = 13$\n",
    "- $n = 2, s = 5$\n",
    "- $n = 3, s = 7$\n",
    "\n",
    "Тобто, якщо $X_i, i = 1, \\ldots, n$, - число на $i$-му кидку кубика, а $X = \\sum\\limits_{i = 1}^{n} X_i$, то потрібно знайти ймовірність $\\textbf{P} \\left( X = s \\right)$.\n",
    "\n",
    "Підрахуйте також емпіричні ймовірності відповідних подій у випадку $10000$ симуляцій.\n",
    "\n",
    "**Зауваження.** Якщо введені параметри не мають сенсу, то повертати $0$.\n",
    "Наприклад, якщо при $n = 3$ вводиться $s < 3$ або $s > 18$."
   ]
  },
  {
   "cell_type": "code",
   "execution_count": 24,
   "metadata": {},
   "outputs": [
    {
     "name": "stdout",
     "output_type": "stream",
     "text": [
      "n = 3; x_max = 13\n",
      "Analytic probability: 0.09722222222222222\n",
      "\n",
      "n = 3; x_max = 13\n",
      "Empiric probability: 0.09684\n",
      "\n",
      "n = 2; x_max = 5\n",
      "Analytic probability: 0.1111111111111111\n",
      "\n",
      "n = 2; x_max = 5\n",
      "Empiric probability: 0.11162\n",
      "\n",
      "n = 3; x_max = 7\n",
      "Analytic probability: 0.06944444444444445\n",
      "\n",
      "n = 3; x_max = 7\n",
      "Empiric probability: 0.07009\n",
      "\n"
     ]
    }
   ],
   "source": [
    "test = [(3,13), (2,5), (3,7)]\n",
    "\n",
    "def analytic(n, x_max):\n",
    "    success = 0\n",
    "    allEvents = 0\n",
    "    \n",
    "    for p in product([i for i in range(1,7)], repeat=n):\n",
    "        allEvents+=1\n",
    "        if sum(p) == x_max:\n",
    "            success+=1\n",
    "    \n",
    "    print('n = {}; x_max = {}'.format(n,x_max))\n",
    "    print('Analytic probability:',success/allEvents)\n",
    "    print()\n",
    "\n",
    "def empiric(n, x_max):\n",
    "    success = 0\n",
    "    allEvents = 0\n",
    "    \n",
    "    events = [i for i in range(1,7)]\n",
    "    \n",
    "    for i in range(10**5):\n",
    "        evs = np.random.choice(events, n)\n",
    "        \n",
    "        allEvents+=1\n",
    "        if sum(evs) == x_max:\n",
    "            success+=1\n",
    "    \n",
    "    print('n = {}; x_max = {}'.format(n,x_max))\n",
    "    print('Empiric probability:',success/allEvents)\n",
    "    print()\n",
    "\n",
    "for t in test:\n",
    "    analytic(*t)\n",
    "    empiric(*t)"
   ]
  },
  {
   "cell_type": "code",
   "execution_count": null,
   "metadata": {},
   "outputs": [],
   "source": []
  }
 ],
 "metadata": {
  "kernelspec": {
   "display_name": "Python 3",
   "language": "python",
   "name": "python3"
  }
 },
 "nbformat": 4,
 "nbformat_minor": 1
}
