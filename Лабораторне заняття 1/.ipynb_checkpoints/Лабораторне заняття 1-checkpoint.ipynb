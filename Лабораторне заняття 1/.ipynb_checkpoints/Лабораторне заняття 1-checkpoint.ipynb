{
 "cells": [
  {
   "cell_type": "markdown",
   "metadata": {},
   "source": [
    "# Лабораторне заняття №1"
   ]
  },
  {
   "cell_type": "markdown",
   "metadata": {},
   "source": [
    "## 1 Перестановки"
   ]
  },
  {
   "cell_type": "markdown",
   "metadata": {},
   "source": [
    "### 1.1 Використовуючи власну функцію"
   ]
  },
  {
   "cell_type": "code",
   "execution_count": 2,
   "metadata": {},
   "outputs": [],
   "source": [
    "def permute(A):\n",
    "    if len(A)==1:\n",
    "        return [tuple(A)]\n",
    "    permutations = []\n",
    "    for x in A:\n",
    "        for y in permute(A-{x}):\n",
    "            permutations.append((x,)+y)\n",
    "    return permutations"
   ]
  },
  {
   "cell_type": "code",
   "execution_count": 3,
   "metadata": {},
   "outputs": [],
   "source": [
    "A = {1, 2, 3}"
   ]
  },
  {
   "cell_type": "code",
   "execution_count": 4,
   "metadata": {},
   "outputs": [
    {
     "name": "stdout",
     "output_type": "stream",
     "text": [
      "Перестановки множини {1, 2, 3}: {(3, 1, 2), (1, 3, 2), (3, 2, 1), (2, 3, 1), (1, 2, 3), (2, 1, 3)}\n",
      "Кількість перестановок:  6\n"
     ]
    }
   ],
   "source": [
    "# Використовуючи власну функцію\n",
    "permute_all = set(permute(A))\n",
    "print(\"Перестановки множини {}: {}\".format(A,permute_all))\n",
    "print(\"Кількість перестановок: \", len(permute_all))"
   ]
  },
  {
   "cell_type": "markdown",
   "metadata": {},
   "source": [
    "### 1.2 Використовуючи бібліотеку `itertools`"
   ]
  },
  {
   "cell_type": "code",
   "execution_count": 5,
   "metadata": {},
   "outputs": [],
   "source": [
    "from itertools import permutations"
   ]
  },
  {
   "cell_type": "code",
   "execution_count": 6,
   "metadata": {},
   "outputs": [],
   "source": [
    "A = {1, 2, 3}"
   ]
  },
  {
   "cell_type": "code",
   "execution_count": 7,
   "metadata": {},
   "outputs": [
    {
     "name": "stdout",
     "output_type": "stream",
     "text": [
      "Перестановки множини {1, 2, 3}: {(3, 1, 2), (1, 3, 2), (3, 2, 1), (2, 3, 1), (1, 2, 3), (2, 1, 3)}\n",
      "Кількість перестановок:  6\n"
     ]
    }
   ],
   "source": [
    "# Використовуючи бібліотеку itertools\n",
    "permute_all = set(permutations(A))\n",
    "print(\"Перестановки множини {}: {}\".format(A,permute_all))\n",
    "print(\"Кількість перестановок: \", len(permute_all))"
   ]
  },
  {
   "cell_type": "markdown",
   "metadata": {},
   "source": [
    "### 1.3 Задача\n",
    "Виведіть всі можливі перестановки та порахуйте їх кількість від таких множин:\n",
    "- {1, 3, 5}\n",
    "- {1, 2, 3, 4}\n",
    "- {1, 2, 2, 1}\n",
    "\n",
    "Порахуйте кількість перестановок таких множин:\n",
    "- {1, 2, 3, 4, 5}\n",
    "- {1, 2, 3, 4, 5, 6, 7}\n",
    "- {1, 3, 5, 7, 9, 11, 13, 15, 17, 19}\n",
    "\n",
    "**Зауваження.** Спробуйте задати множину $\\{1, 2, 2, 1\\}$ у вигляді списку, тобто $A = [1, 2, 2, 1]$."
   ]
  },
  {
   "cell_type": "code",
   "execution_count": 25,
   "metadata": {},
   "outputs": [
    {
     "name": "stdout",
     "output_type": "stream",
     "text": [
      "Number of permutations: 6\n",
      "Permutations:\n",
      "(3, 5, 1)\n",
      "(5, 3, 1)\n",
      "(1, 5, 3)\n",
      "(3, 1, 5)\n",
      "(1, 3, 5)\n",
      "(5, 1, 3)\n",
      "\n",
      "Number of permutations: 24\n",
      "Permutations:\n",
      "(4, 1, 2, 3)\n",
      "(1, 3, 2, 4)\n",
      "(3, 4, 1, 2)\n",
      "(1, 4, 2, 3)\n",
      "(4, 2, 3, 1)\n",
      "(2, 4, 1, 3)\n",
      "(4, 3, 1, 2)\n",
      "(2, 1, 3, 4)\n",
      "(3, 1, 4, 2)\n",
      "(3, 2, 4, 1)\n",
      "(1, 3, 4, 2)\n",
      "(1, 2, 4, 3)\n",
      "(2, 4, 3, 1)\n",
      "(3, 1, 2, 4)\n",
      "(4, 1, 3, 2)\n",
      "(2, 3, 1, 4)\n",
      "(4, 2, 1, 3)\n",
      "(1, 2, 3, 4)\n",
      "(1, 4, 3, 2)\n",
      "(3, 4, 2, 1)\n",
      "(2, 3, 4, 1)\n",
      "(4, 3, 2, 1)\n",
      "(3, 2, 1, 4)\n",
      "(2, 1, 4, 3)\n",
      "\n",
      "Number of permutations: 6\n",
      "Permutations:\n",
      "(1, 2, 1, 2)\n",
      "(1, 1, 2, 2)\n",
      "(2, 1, 2, 1)\n",
      "(2, 2, 1, 1)\n",
      "(2, 1, 1, 2)\n",
      "(1, 2, 2, 1)\n",
      "\n"
     ]
    }
   ],
   "source": [
    "A = {1,3,5}\n",
    "B = {1,2,3,4}\n",
    "C = (1,2,2,1)\n",
    "sets = [A,B,C]\n",
    "\n",
    "for s in sets:\n",
    "    pS = set(permutations(s))\n",
    "    print('Number of permutations:',len(pS))\n",
    "    print('Permutations:')\n",
    "    for p in pS:\n",
    "        print(p)\n",
    "    print()"
   ]
  },
  {
   "cell_type": "code",
   "execution_count": 27,
   "metadata": {},
   "outputs": [
    {
     "name": "stdout",
     "output_type": "stream",
     "text": [
      "Number of permutations of the set is 120\n",
      "Number of permutations of the set is 5040\n",
      "Number of permutations of the set is 3628800\n"
     ]
    }
   ],
   "source": [
    "A = {1, 2, 3, 4, 5}\n",
    "B = {1, 2, 3, 4, 5, 6, 7}\n",
    "C = {1, 3, 5, 7, 9, 11, 13, 15, 17, 19}\n",
    "sets = [A,B,C]\n",
    "\n",
    "for s in sets:\n",
    "    print('Number of permutations of the set is',len(set(permutations(s))))"
   ]
  },
  {
   "cell_type": "markdown",
   "metadata": {},
   "source": [
    "### 1.4 Задача\n",
    "Виведіть всі можливі перестановки без нерухомих точок та порахуйте їх кількість від таких множин:\n",
    "- {1, 2, 3}\n",
    "- {1, 2, 3, 4}\n",
    "- {1, 3, 5, 7}\n",
    "- {1, 2, 2, 1}\n",
    "\n",
    "_Перестановка без нерухомих точок_ - це така перестановка, в якій позиція кожного елементу не збігається з його позицією в початковій множині.\n",
    "**Приклад.** Для множини {1, 2, 3, 4, 5}:\n",
    "- {4, 1, 5, 2, 3} - перестановка без нерухомих точок\n",
    "- {4, **2**, 1, 3, **5**} - перестановка з нерухомими точками"
   ]
  },
  {
   "cell_type": "code",
   "execution_count": 29,
   "metadata": {},
   "outputs": [
    {
     "name": "stdout",
     "output_type": "stream",
     "text": [
      "(1, 2, 3) is processing now\n",
      "The number of permutations without stale point is 2 \n",
      "\n",
      "(1, 2, 3, 4) is processing now\n",
      "The number of permutations without stale point is 9 \n",
      "\n",
      "(1, 3, 5, 7) is processing now\n",
      "The number of permutations without stale point is 9 \n",
      "\n",
      "(1, 2, 2, 1) is processing now\n",
      "The number of permutations without stale point is 4 \n",
      "\n"
     ]
    }
   ],
   "source": [
    "def check_point(initial_set, set_to_check):\n",
    "    iset = list(initial_set)\n",
    "    cset = list(set_to_check)\n",
    "    items = set([iset[i] == cset[i] for i in range(len(iset))])\n",
    "    \n",
    "    return True in items\n",
    "    \n",
    "sets = [(1,2,3), (1,2,3,4), (1,3,5,7), (1,2,2,1)]\n",
    "\n",
    "for s in sets:\n",
    "    print(s, 'is processing now')\n",
    "    \n",
    "    perms = list(permutations(s))\n",
    "    permsCount = len(perms)\n",
    "    \n",
    "    for p in perms:\n",
    "        if check_point(s, p):\n",
    "            permsCount-=1\n",
    "    \n",
    "    print('The number of permutations without stale point is',permsCount,'\\n')"
   ]
  },
  {
   "cell_type": "markdown",
   "metadata": {},
   "source": [
    "### 1.5 Задача\n",
    "Виведіть всі можливі перестановки, в яких перші $4$ елементи зростають, а наступні спадають, та порахуйте їх кількість від таких множин:\n",
    "- {1, 2, 3, 4, 5, 6, 7, 8}\n",
    "- {1, 2, 3, 4, 5, 6, 7, 8, 9, 10}\n",
    "\n",
    "**Зауваження.** Нехай перестановка\n",
    "$\\pi = \\left( \\sigma_1, \\sigma_2, \\sigma_3, \\sigma_4, \\sigma_5, \\sigma_6, \\sigma_7, \\sigma_8 \\right)$.\n",
    "Тоді має виконуватися така умова:\n",
    "$$\n",
    "  \\sigma_1 < \\sigma_2 < \\sigma_3 < \\sigma_4 > \\sigma_5 > \\sigma_6 > \\sigma_7 > \\sigma_8.\n",
    "$$"
   ]
  },
  {
   "cell_type": "code",
   "execution_count": 31,
   "metadata": {},
   "outputs": [
    {
     "name": "stdout",
     "output_type": "stream",
     "text": [
      "{1, 2, 3, 4, 5, 6, 7, 8} is processing now\n",
      "The number of required permutations is 160\n",
      "\n",
      "{1, 2, 3, 4, 5, 6, 7, 8, 9, 10} is processing now\n",
      "The number of required permutations is 560\n",
      "\n"
     ]
    }
   ],
   "source": [
    "def check_condition(s):\n",
    "    s = list(s)\n",
    "    \n",
    "    return (s[0]<s[1]<s[3]<s[4]) and set([s[i]<s[i-1] for i in range(5, len(s))]) == {True}\n",
    "\n",
    "sets = [{i for i in range(1,9)}, {i for i in range(1,11)}]\n",
    "\n",
    "for s in sets:\n",
    "    print(s, 'is processing now')\n",
    "    \n",
    "    perms = list(permutations(s))\n",
    "    permsCount = len(perms)\n",
    "    \n",
    "    for p in perms:\n",
    "        if not check_condition(p):\n",
    "            permsCount-=1\n",
    "    \n",
    "    print('The number of required permutations is',permsCount)\n",
    "    print()"
   ]
  },
  {
   "cell_type": "markdown",
   "metadata": {},
   "source": [
    "## 2 Часткові перестановки"
   ]
  },
  {
   "cell_type": "markdown",
   "metadata": {},
   "source": [
    "### 2.1 Використовуючи бібліотеку `itertools`"
   ]
  },
  {
   "cell_type": "code",
   "execution_count": 11,
   "metadata": {},
   "outputs": [],
   "source": [
    "A = {1, 2, 3}\n",
    "k = 2"
   ]
  },
  {
   "cell_type": "code",
   "execution_count": 12,
   "metadata": {},
   "outputs": [
    {
     "name": "stdout",
     "output_type": "stream",
     "text": [
      "Перестановки довжини 2 множини {1, 2, 3}: [(1, 2), (1, 3), (2, 1), (2, 3), (3, 1), (3, 2)]\n",
      "Кількість таких перестановок: 6\n"
     ]
    }
   ],
   "source": [
    "# перестановки довжини k множини A\n",
    "permute_k = list(permutations(A, k))\n",
    "print(\"Перестановки довжини {} множини {}: {}\".format(k,A,permute_k))\n",
    "print(\"Кількість таких перестановок: {}\".format(len(permute_k)))"
   ]
  },
  {
   "cell_type": "markdown",
   "metadata": {},
   "source": [
    "### 2.2 Задача\n",
    "Нехай $n$ - розмір множини, $k$ - розмір перестановок.\n",
    "Виведіть всі можливі часткові перестановки та порахуйте їх кількість для таких параметрів:\n",
    "- $n = 4, k = 2$\n",
    "- $n = 4, k = 3$\n",
    "- $n = 5, k = 2$\n",
    "\n",
    "Порахуйте кількість часткових перестановок для таких параметрів:\n",
    "- $n = 6, k = 2$\n",
    "- $n = 6, k = 4$\n",
    "- $n = 8, k = 4$"
   ]
  },
  {
   "cell_type": "code",
   "execution_count": 34,
   "metadata": {},
   "outputs": [
    {
     "name": "stdout",
     "output_type": "stream",
     "text": [
      "Let A is set. |A| = 4\n",
      "Let's find permutations with the length of 2\n",
      "a_0 a_1\n",
      "a_0 a_2\n",
      "a_0 a_3\n",
      "a_1 a_0\n",
      "a_1 a_2\n",
      "a_1 a_3\n",
      "a_2 a_0\n",
      "a_2 a_1\n",
      "a_2 a_3\n",
      "a_3 a_0\n",
      "a_3 a_1\n",
      "a_3 a_2\n",
      "\n",
      "Let A is set. |A| = 4\n",
      "Let's find permutations with the length of 3\n",
      "a_0 a_1 a_2\n",
      "a_0 a_1 a_3\n",
      "a_0 a_2 a_1\n",
      "a_0 a_2 a_3\n",
      "a_0 a_3 a_1\n",
      "a_0 a_3 a_2\n",
      "a_1 a_0 a_2\n",
      "a_1 a_0 a_3\n",
      "a_1 a_2 a_0\n",
      "a_1 a_2 a_3\n",
      "a_1 a_3 a_0\n",
      "a_1 a_3 a_2\n",
      "a_2 a_0 a_1\n",
      "a_2 a_0 a_3\n",
      "a_2 a_1 a_0\n",
      "a_2 a_1 a_3\n",
      "a_2 a_3 a_0\n",
      "a_2 a_3 a_1\n",
      "a_3 a_0 a_1\n",
      "a_3 a_0 a_2\n",
      "a_3 a_1 a_0\n",
      "a_3 a_1 a_2\n",
      "a_3 a_2 a_0\n",
      "a_3 a_2 a_1\n",
      "\n",
      "Let A is set. |A| = 5\n",
      "Let's find permutations with the length of 2\n",
      "a_0 a_1\n",
      "a_0 a_2\n",
      "a_0 a_3\n",
      "a_0 a_4\n",
      "a_1 a_0\n",
      "a_1 a_2\n",
      "a_1 a_3\n",
      "a_1 a_4\n",
      "a_2 a_0\n",
      "a_2 a_1\n",
      "a_2 a_3\n",
      "a_2 a_4\n",
      "a_3 a_0\n",
      "a_3 a_1\n",
      "a_3 a_2\n",
      "a_3 a_4\n",
      "a_4 a_0\n",
      "a_4 a_1\n",
      "a_4 a_2\n",
      "a_4 a_3\n",
      "\n"
     ]
    }
   ],
   "source": [
    "tests = [(4,2),(4,3),(5,2)]\n",
    "\n",
    "for t in tests:\n",
    "    print('Let A is set. |A| =',t[0])\n",
    "    print(\"Let's find permutations with the length of\",t[1])\n",
    "    \n",
    "    perms = permutations([i for i in range(t[0])], t[1])\n",
    "    for p in perms:\n",
    "        l = list(p)\n",
    "        for i in range(t[1]):\n",
    "            l[i] = 'a_'+str(l[i])\n",
    "        print(*l)\n",
    "    print()\n",
    "        "
   ]
  },
  {
   "cell_type": "code",
   "execution_count": 36,
   "metadata": {},
   "outputs": [
    {
     "name": "stdout",
     "output_type": "stream",
     "text": [
      "n = 6  k = 2\n",
      "Number of permutations of the length 2 is 30 \n",
      "\n",
      "n = 6  k = 4\n",
      "Number of permutations of the length 4 is 360 \n",
      "\n",
      "n = 8  k = 4\n",
      "Number of permutations of the length 4 is 1680 \n",
      "\n"
     ]
    }
   ],
   "source": [
    "tests = [(6,2),(6,4),(8,4)]\n",
    "\n",
    "for t in tests:\n",
    "    print('n =',t[0],' k =',t[1])\n",
    "    p = len(list(permutations([i for i in range(t[0])],t[1])))\n",
    "    print('Number of permutations of the length',t[1],'is',p,'\\n')"
   ]
  },
  {
   "cell_type": "markdown",
   "metadata": {},
   "source": [
    "## 3 Комбінації без повторень"
   ]
  },
  {
   "cell_type": "markdown",
   "metadata": {},
   "source": [
    "### 3.1 Використовуючи бібліотеку `itertools`"
   ]
  },
  {
   "cell_type": "code",
   "execution_count": 14,
   "metadata": {},
   "outputs": [],
   "source": [
    "from itertools import combinations"
   ]
  },
  {
   "cell_type": "code",
   "execution_count": 15,
   "metadata": {},
   "outputs": [],
   "source": [
    "A = {1, 2, 3}\n",
    "k = 2"
   ]
  },
  {
   "cell_type": "code",
   "execution_count": 16,
   "metadata": {},
   "outputs": [
    {
     "name": "stdout",
     "output_type": "stream",
     "text": [
      "Комбінації довжини 2 множини {1, 2, 3}: [(1, 2), (1, 3), (2, 3)]\n",
      "Кількість таких комбінацій: 3\n"
     ]
    }
   ],
   "source": [
    "# комбінації довжини k множини A\n",
    "choose_k = list(combinations(A,k))\n",
    "print(\"Комбінації довжини {} множини {}: {}\".format(k,A,choose_k))\n",
    "print(\"Кількість таких комбінацій: {}\".format(len(choose_k)  ))"
   ]
  },
  {
   "cell_type": "markdown",
   "metadata": {},
   "source": [
    "### 3.2 Задача\n",
    "Нехай $n$ - розмір множини, $k$ - розмір комбінацій.\n",
    "Виведіть всі можливі комбінації без повторень та порахуйте їх кількість для таких параметрів:\n",
    "- $n = 4, k = 2$\n",
    "- $n = 4, k = 3$\n",
    "- $n = 5, k = 2$\n",
    "\n",
    "Порахуйте кількість комбінацій без повторень для таких параметрів:\n",
    "- $n = 6, k = 2$\n",
    "- $n = 6, k = 4$\n",
    "- $n = 8, k = 4$"
   ]
  },
  {
   "cell_type": "code",
   "execution_count": 37,
   "metadata": {},
   "outputs": [
    {
     "name": "stdout",
     "output_type": "stream",
     "text": [
      "n = 4 k = 2\n",
      "Number of combinations: 6\n",
      "Combinations:\n",
      "(1, 2)\n",
      "(1, 3)\n",
      "(1, 4)\n",
      "(2, 3)\n",
      "(2, 4)\n",
      "(3, 4)\n",
      "\n",
      "n = 4 k = 3\n",
      "Number of combinations: 4\n",
      "Combinations:\n",
      "(1, 2, 3)\n",
      "(1, 2, 4)\n",
      "(1, 3, 4)\n",
      "(2, 3, 4)\n",
      "\n",
      "n = 5 k = 2\n",
      "Number of combinations: 10\n",
      "Combinations:\n",
      "(1, 2)\n",
      "(1, 3)\n",
      "(1, 4)\n",
      "(1, 5)\n",
      "(2, 3)\n",
      "(2, 4)\n",
      "(2, 5)\n",
      "(3, 4)\n",
      "(3, 5)\n",
      "(4, 5)\n",
      "\n"
     ]
    }
   ],
   "source": [
    "tests = [(4,2),(4,3),(5,2)]\n",
    "\n",
    "for t in tests:\n",
    "    n,k = t\n",
    "    print('n =',n,'k =',k)\n",
    "    \n",
    "    perms = list(combinations([i+1 for i in range(n)], k))\n",
    "    print('Number of combinations:',len(perms))\n",
    "    print('Combinations:')\n",
    "    for p in perms:\n",
    "        print(p)\n",
    "    print()"
   ]
  },
  {
   "cell_type": "code",
   "execution_count": 38,
   "metadata": {},
   "outputs": [
    {
     "name": "stdout",
     "output_type": "stream",
     "text": [
      "n = 6  k = 2\n",
      "Number of combinations 15 \n",
      "\n",
      "n = 6  k = 4\n",
      "Number of combinations 15 \n",
      "\n",
      "n = 8  k = 4\n",
      "Number of combinations 70 \n",
      "\n"
     ]
    }
   ],
   "source": [
    "tests = [(6,2),(6,4),(8,4)]\n",
    "\n",
    "for t in tests:\n",
    "    print('n =',t[0],' k =',t[1])\n",
    "    p = len(list(combinations([i for i in range(t[0])],t[1])))\n",
    "    print('Number of combinations',p,'\\n')"
   ]
  },
  {
   "cell_type": "markdown",
   "metadata": {},
   "source": [
    "### 3.3 Задача\n",
    "Нехай $A$ - множина з $10$ елементів, кожен з яких є цілим числом від $1$ до $25$.\n",
    "Тобто $$A = \\{ a_i \\}_{i = 1}^{10},\\\\ 1 \\leq a_i \\leq 25, \\quad i = 1, \\ldots, 10.$$\n",
    "Скільки елементів може бути в множині, яка складається із попарних сум елементів множини $A$?\n",
    "$$B = \\{ b_k \\, \\colon \\, b_k = a_i + a_j, \\quad a_i, a_j \\in A, \\, 1 \\leq i, j \\leq 10, \\, i \\neq j \\}_{k = 1}^{\\textbf{?}}$$"
   ]
  },
  {
   "cell_type": "code",
   "execution_count": 48,
   "metadata": {},
   "outputs": [
    {
     "name": "stdout",
     "output_type": "stream",
     "text": [
      "47\n"
     ]
    }
   ],
   "source": [
    "combs = list(combinations([i+1 for i in range(25)], 2))\n",
    "b = {c[0]+c[1] for c in combs}\n",
    "print(len(b))"
   ]
  },
  {
   "cell_type": "markdown",
   "metadata": {},
   "source": [
    "## 4 Комбінації з повтореннями"
   ]
  },
  {
   "cell_type": "markdown",
   "metadata": {},
   "source": [
    "### 4.1 Використовуючи бібліотеку `itertools`"
   ]
  },
  {
   "cell_type": "code",
   "execution_count": 19,
   "metadata": {},
   "outputs": [],
   "source": [
    "from itertools import combinations_with_replacement"
   ]
  },
  {
   "cell_type": "code",
   "execution_count": 20,
   "metadata": {},
   "outputs": [],
   "source": [
    "A = {1, 2, 3}\n",
    "k = 2"
   ]
  },
  {
   "cell_type": "code",
   "execution_count": 21,
   "metadata": {},
   "outputs": [
    {
     "name": "stdout",
     "output_type": "stream",
     "text": [
      "Комбінації довжини 2 множини {1, 2, 3}: [(1, 1), (1, 2), (1, 3), (2, 2), (2, 3), (3, 3)]\n",
      "Кількість таких комбінацій: 6\n"
     ]
    }
   ],
   "source": [
    "# комбінації довжини k множини A\n",
    "choose_k = list(combinations_with_replacement(A,k))\n",
    "print(\"Комбінації довжини {} множини {}: {}\".format(k,A,choose_k))\n",
    "print(\"Кількість таких комбінацій: {}\".format(len(choose_k)  ))"
   ]
  },
  {
   "cell_type": "markdown",
   "metadata": {},
   "source": [
    "### 4.2 Задача\n",
    "Нехай $n$ - розмір множини, $k$ - розмір комбінацій.\n",
    "Виведіть всі можливі комбінації з повтореннями та порахуйте їх кількість для таких параметрів:\n",
    "- $n = 4, k = 2$\n",
    "- $n = 4, k = 3$\n",
    "- $n = 5, k = 2$\n",
    "\n",
    "Порахуйте кількість комбінацій з повтореннями для таких параметрів:\n",
    "- $n = 6, k = 2$\n",
    "- $n = 6, k = 4$\n",
    "- $n = 8, k = 4$"
   ]
  },
  {
   "cell_type": "code",
   "execution_count": 49,
   "metadata": {},
   "outputs": [
    {
     "name": "stdout",
     "output_type": "stream",
     "text": [
      "n = 4  k = 2\n",
      "Number of combinations 10\n",
      "(1, 1)\n",
      "(1, 2)\n",
      "(1, 3)\n",
      "(1, 4)\n",
      "(2, 2)\n",
      "(2, 3)\n",
      "(2, 4)\n",
      "(3, 3)\n",
      "(3, 4)\n",
      "(4, 4)\n",
      "\n",
      "n = 4  k = 3\n",
      "Number of combinations 20\n",
      "(1, 1, 1)\n",
      "(1, 1, 2)\n",
      "(1, 1, 3)\n",
      "(1, 1, 4)\n",
      "(1, 2, 2)\n",
      "(1, 2, 3)\n",
      "(1, 2, 4)\n",
      "(1, 3, 3)\n",
      "(1, 3, 4)\n",
      "(1, 4, 4)\n",
      "(2, 2, 2)\n",
      "(2, 2, 3)\n",
      "(2, 2, 4)\n",
      "(2, 3, 3)\n",
      "(2, 3, 4)\n",
      "(2, 4, 4)\n",
      "(3, 3, 3)\n",
      "(3, 3, 4)\n",
      "(3, 4, 4)\n",
      "(4, 4, 4)\n",
      "\n",
      "n = 5  k = 2\n",
      "Number of combinations 15\n",
      "(1, 1)\n",
      "(1, 2)\n",
      "(1, 3)\n",
      "(1, 4)\n",
      "(1, 5)\n",
      "(2, 2)\n",
      "(2, 3)\n",
      "(2, 4)\n",
      "(2, 5)\n",
      "(3, 3)\n",
      "(3, 4)\n",
      "(3, 5)\n",
      "(4, 4)\n",
      "(4, 5)\n",
      "(5, 5)\n",
      "\n"
     ]
    }
   ],
   "source": [
    "tests = [(4,2),(4,3),(5,2)]\n",
    "\n",
    "for t in tests:\n",
    "    n,k = t\n",
    "    print('n =',n,' k =',k)\n",
    "    combs = list(combinations_with_replacement([i+1 for i in range(n)],k))\n",
    "    print('Number of combinations',len(combs))\n",
    "    for c in combs:\n",
    "        print(c)\n",
    "    print()"
   ]
  },
  {
   "cell_type": "code",
   "execution_count": 51,
   "metadata": {},
   "outputs": [
    {
     "name": "stdout",
     "output_type": "stream",
     "text": [
      "n = 6 k = 2\n",
      "Number of combinations: 21 \n",
      "\n",
      "n = 6 k = 4\n",
      "Number of combinations: 126 \n",
      "\n",
      "n = 8 k = 4\n",
      "Number of combinations: 330 \n",
      "\n"
     ]
    }
   ],
   "source": [
    "tests = [(6,2),(6,4),(8,4)]\n",
    "\n",
    "for t in tests:\n",
    "    n,k = t\n",
    "    print('n =',n,'k =',k)\n",
    "    p = len(list(combinations_with_replacement([i for i in range(n)],k)))\n",
    "    print('Number of combinations:',p,'\\n')"
   ]
  },
  {
   "cell_type": "markdown",
   "metadata": {},
   "source": [
    "### 4.3 Задача\n",
    "Скільки існує 6-цифрових наборів таких, що сума перших трьох цифр дорівнює сумі останніх трьох?\n",
    "\n",
    "**Зауваження 1.** В задачі фігурують 6-цифрові набори, а не числа. Тобто перша цифра може дорівнювати $0$.\n",
    "\n",
    "**Зауваження 2.** Задача передбачає використання функції\n",
    "[product](https://docs.python.org/3/library/itertools.html#itertools.product)."
   ]
  },
  {
   "cell_type": "code",
   "execution_count": 54,
   "metadata": {},
   "outputs": [
    {
     "name": "stdout",
     "output_type": "stream",
     "text": [
      "55252\n"
     ]
    }
   ],
   "source": [
    "from itertools import product\n",
    "\n",
    "tuples = product([i for i in range(10)],repeat=6)\n",
    "\n",
    "count = 0\n",
    "\n",
    "for t in tuples:\n",
    "    if t[0]+t[1]+t[2] == t[3]+t[4]+t[5]:\n",
    "        count+=1\n",
    "\n",
    "print(count)\n"
   ]
  },
  {
   "cell_type": "markdown",
   "metadata": {},
   "source": [
    "### 4.4 Задача\n",
    "Скільки існує 6-цифрових чисел, в яких дві однакові цифри не стоять поряд?\n",
    "\n",
    "**Зауваження 1.** В задачі фігурують 6-цифрові числа, тобто перша цифра не може дорівнювати $0$.\n",
    "\n",
    "**Зауваження 2.** Задача передбачає використання функції\n",
    "[product](https://docs.python.org/3/library/itertools.html#itertools.product)."
   ]
  },
  {
   "cell_type": "code",
   "execution_count": 57,
   "metadata": {},
   "outputs": [
    {
     "name": "stdout",
     "output_type": "stream",
     "text": [
      "590490\n"
     ]
    }
   ],
   "source": [
    "tuples = product([i for i in range(10)],repeat=6)\n",
    "\n",
    "count = 0\n",
    "\n",
    "for t in tuples:\n",
    "    l = list(t)\n",
    "    if {l[i]==l[i-1] for i in range(1,6)} == {False}:\n",
    "        count+=1\n",
    "\n",
    "print(count)\n"
   ]
  },
  {
   "cell_type": "code",
   "execution_count": null,
   "metadata": {},
   "outputs": [],
   "source": []
  }
 ],
 "metadata": {
  "kernelspec": {
   "display_name": "Python 3",
   "language": "python",
   "name": "python3"
  },
  "language_info": {
   "codemirror_mode": {
    "name": "ipython",
    "version": 3
   },
   "file_extension": ".py",
   "mimetype": "text/x-python",
   "name": "python",
   "nbconvert_exporter": "python",
   "pygments_lexer": "ipython3",
   "version": "3.6.7"
  }
 },
 "nbformat": 4,
 "nbformat_minor": 1
}
