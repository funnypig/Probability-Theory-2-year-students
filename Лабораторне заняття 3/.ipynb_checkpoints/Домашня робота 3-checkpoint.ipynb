{
 "cells": [
  {
   "cell_type": "markdown",
   "metadata": {},
   "source": [
    "# Домашня робота №3\n",
    "Будемо використовувати *Збірник задач з теорії ймовірностей та математичної статистики: навч. посібник / В.В. Голомозий, М.В. Карташов, К.В. Ральченко. – К.: Видавничо-поліграфічний центр «Київський університет», 2015. – 366 с.*\n",
    "Електронну версію збірника можна знайти [тут](http://probability.univ.kiev.ua/userfiles/kmv/gkr-problems.pdf)."
   ]
  },
  {
   "cell_type": "markdown",
   "metadata": {},
   "source": [
    "## 1 Задача 1.3.12\n",
    "Знайти ймовiрнiсть того, що серед трьох цифр, кожна з яких вибрана навмання, буде лише 1, 2, 3 рiзних.\n",
    "\n",
    "Обчисліть теоретичну (повним перебором) та еміричну (симулюванням $100000$ експериментів) імовірності."
   ]
  },
  {
   "cell_type": "code",
   "execution_count": 8,
   "metadata": {},
   "outputs": [
    {
     "name": "stdout",
     "output_type": "stream",
     "text": [
      "n = 1\n",
      "Analytic: 0.01\n",
      "Empiric: 0.01039\n",
      "\n",
      "n = 2\n",
      "Analytic: 0.27\n",
      "Empiric: 0.27089\n",
      "\n",
      "n = 3\n",
      "Analytic: 0.72\n",
      "Empiric: 0.72226\n",
      "\n"
     ]
    }
   ],
   "source": [
    "from itertools import product\n",
    "import numpy as np\n",
    "\n",
    "def analytic(check):\n",
    "    events = 0\n",
    "    success = 0\n",
    "    \n",
    "    for p in product([i for i in range(10)], repeat=3):\n",
    "        events+=1\n",
    "        if check(p):\n",
    "            success+=1\n",
    "    \n",
    "    return (success+0.00)/events\n",
    "\n",
    "def empiric(check):\n",
    "    success = 0\n",
    "    \n",
    "    digits = [i for i in range(10)]\n",
    "    \n",
    "    for i in range(10**5):\n",
    "        e = np.random.choice(digits, 3)\n",
    "        \n",
    "        if check(e):\n",
    "            success+=1\n",
    "    \n",
    "    return (success+0.00)/10**5\n",
    "\n",
    "checks = [\n",
    "    lambda x: len(set(x)) == 1,\n",
    "    lambda x: len(set(x)) == 2,\n",
    "    lambda x: len(set(x)) == 3\n",
    "]\n",
    "\n",
    "for i in range(1,4):\n",
    "    print('n =',i)\n",
    "    print('Analytic:',analytic(checks[i-1]))\n",
    "    print('Empiric:',empiric(checks[i-1]))\n",
    "    print()\n",
    "    "
   ]
  },
  {
   "cell_type": "markdown",
   "metadata": {},
   "source": [
    "# 2 Задача 1.3.14\n",
    "З послiдовностi чисел $1, 2, . . . , n$ вибирають навмання $k$ рiзних чисел.\n",
    "Яка ймовiрнiсть того, що:\n",
    "1. кожне з вибраних чисел кратне даному числу $p$;\n",
    "2. кожне з вибраних чисел кратне хоча б одному з двох взаємно простих чисел $p$ i $q$;\n",
    "3. серед вибраних чисел є хоча б одне кратне $p$?\n",
    "\n",
    "Напишіть  відповідні функції для обрахунку теоретичної (повним перебором) та еміричної (симулюванням $100000$ експериментів) імовірностей в залежності від параметрів $n, k, p, q$.\n",
    "Виведіть результат для\n",
    "- $n = 25, k = 5, p = 3, q = 4$;\n",
    "- $n = 25, k = 10, p = 3, q = 4$."
   ]
  },
  {
   "cell_type": "code",
   "execution_count": 12,
   "metadata": {},
   "outputs": [
    {
     "name": "stdout",
     "output_type": "stream",
     "text": [
      "n = 25; k = 5; p = 3; q = 4\n",
      "Condition: 1\n",
      "Analytic: 0.001054018445322793\n",
      "Empiric: 0.00088\n",
      "\n",
      "Condition: 2\n",
      "Analytic: 0.014906832298136646\n",
      "Empiric: 0.01523\n",
      "\n",
      "Condition: 3\n",
      "Analytic: 0.8835309617918313\n",
      "Empiric: 0.8833\n",
      "\n",
      "n = 25; k = 10; p = 3; q = 4\n",
      "Condition: 1\n",
      "Analytic: 0.0\n",
      "Empiric: 0.0\n",
      "\n",
      "Condition: 2\n",
      "Analytic: 2.0191142818683536e-05\n",
      "Empiric: 7e-05\n",
      "\n",
      "Condition: 3\n",
      "Analytic: 0.9940503432494279\n",
      "Empiric: 0.99384\n",
      "\n"
     ]
    }
   ],
   "source": [
    "from itertools import combinations\n",
    "\n",
    "def analytic(n,k,check):\n",
    "    events = 0\n",
    "    success = 0\n",
    "    \n",
    "    for p in combinations([i for i in range(1,n+1)], k):\n",
    "        events+=1\n",
    "        if check(p):\n",
    "            success+=1\n",
    "    \n",
    "    return (success+0.00)/events\n",
    "\n",
    "def empiric(n,k,check):\n",
    "    success = 0\n",
    "    \n",
    "    digits = [i for i in range(1,n+1)]\n",
    "    \n",
    "    for i in range(10**5):\n",
    "        e = np.random.choice(digits, k, replace=False)\n",
    "        \n",
    "        if check(e):\n",
    "            success+=1\n",
    "    \n",
    "    return (success+0.00)/10**5\n",
    "\n",
    "checks = [\n",
    "    lambda x: {xi%p == 0 for xi in x} == {True},\n",
    "    lambda x: {xi%p==0 or xi%q==0 for xi in x} == {True},\n",
    "    lambda x: True in {xi%p==0 for xi in x}\n",
    "]\n",
    "\n",
    "tests = [(25, 5, 3, 4), (25,10,3,4)]\n",
    "\n",
    "for t in tests:\n",
    "    n,k,p,q = t\n",
    "    print('n = {}; k = {}; p = {}; q = {}'.format(*t))\n",
    "    \n",
    "    for i in range(3):\n",
    "        print('Condition:',i+1)\n",
    "        print('Analytic:',analytic(n,k,checks[i]))\n",
    "        print('Empiric:',empiric(n,k,checks[i]))\n",
    "        print()\n",
    "    "
   ]
  },
  {
   "cell_type": "markdown",
   "metadata": {},
   "source": [
    "# 3 Задача 1.4.6\n",
    "В коморi знаходяться $n$ пар черевикiв.\n",
    "З них випадковим чином вибираються $2k$ черевикiв.\n",
    "Яка ймовiрнiсть того, що серед вибраних черевикiв:\n",
    "1. вiдсутнi парнi;\n",
    "2. є рiвно одна комплектна пара;\n",
    "3. є двi комплектнi пари?\n",
    "\n",
    "Напишіть  відповідні функції для обрахунку теоретичної (повним перебором) та еміричної (симулюванням $100000$ експериментів) імовірностей в залежності від параметрів $n, k$.\n",
    "Виведіть результат для\n",
    "- $n = 8, k = 4$;\n",
    "- $n = 13, k = 5$."
   ]
  },
  {
   "cell_type": "code",
   "execution_count": 3,
   "metadata": {
    "collapsed": true
   },
   "outputs": [],
   "source": []
  },
  {
   "cell_type": "markdown",
   "metadata": {},
   "source": [
    "# 4 Задача 1.2.15\n",
    "Нехай $\\Omega = {1, 2, \\ldots, 2n}$.\n",
    "Всiм числам приписанi ймовiрностi, пропорцiйнi логарифмам цих чисел.\n",
    "Знайти цi ймовiрностi.\n",
    "Знайти ймовiрнiсть того, що в результатi експерименту з’явиться:\n",
    "1. парне число;\n",
    "2. непарне число.\n",
    "\n",
    "Напишіть функцію для обрахунку еміричної (симулюванням $100000$ експериментів) імовірності в залежності від параметра $n$.\n",
    "Виведіть результат для\n",
    "- $n = 10$;\n",
    "- $n = 25$."
   ]
  },
  {
   "cell_type": "code",
   "execution_count": 4,
   "metadata": {
    "collapsed": true
   },
   "outputs": [],
   "source": [
    "# Місце для Вашого коду\n",
    "\n"
   ]
  }
 ],
 "metadata": {
  "kernelspec": {
   "display_name": "Python 3",
   "language": "python",
   "name": "python3"
  },
  "language_info": {
   "codemirror_mode": {
    "name": "ipython",
    "version": 3
   },
   "file_extension": ".py",
   "mimetype": "text/x-python",
   "name": "python",
   "nbconvert_exporter": "python",
   "pygments_lexer": "ipython3",
   "version": "3.6.7"
  }
 },
 "nbformat": 4,
 "nbformat_minor": 1
}
