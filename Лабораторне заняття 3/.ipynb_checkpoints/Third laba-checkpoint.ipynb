{
 "cells": [
  {
   "cell_type": "code",
   "execution_count": 9,
   "metadata": {},
   "outputs": [
    {
     "name": "stdout",
     "output_type": "stream",
     "text": [
      "Теоретическая вероятность\n",
      " для 1 разной цифри в числе: 0.01\n",
      " для 2 разный цифер: 0.27\n",
      " для 3: 0.72\n",
      "\n",
      "Емпирическая вероятность\n",
      " для 1 разной цифри в числе: 0.0096\n",
      " для 2 разный цифер: 0.2676\n",
      " для 3: 0.7228\n",
      "\n",
      "\n"
     ]
    }
   ],
   "source": [
    "import itertools\n",
    "import numpy as np\n",
    "def check(arr):\n",
    "    l1, l2, l3 = 0, 0, 0\n",
    "    length = len(arr)\n",
    "    for x in arr:\n",
    "        l = len(set(x))\n",
    "        if l == 1:\n",
    "             l1 += 1\n",
    "        elif l == 2:\n",
    "             l2 += 1\n",
    "        else:\n",
    "              l3 += 1\n",
    "    return l1 / length, l2 / length, l3 / length\n",
    "digits = [0,1,2,3,4,5,6,7,8,9]\n",
    "lst = list(itertools.product(digits, repeat=3))\n",
    "print('Теоретическая вероятность\\n'\n",
    "          ' для 1 разной цифри в числе: {}\\n'\n",
    "          ' для 2 разный цифер: {}\\n'\n",
    "          ' для 3: {}\\n'.format(*check(lst)))\n",
    "\n",
    "    \n",
    "lst = [np.random.choice(digits, size=3) for _ in range(10000)]\n",
    "print('Емпирическая вероятность\\n'\n",
    "          ' для 1 разной цифри в числе: {}\\n'\n",
    "          ' для 2 разный цифер: {}\\n'\n",
    "          ' для 3: {}\\n\\n'.format(*check(lst)))\n",
    "    \n"
   ]
  },
  {
   "cell_type": "code",
   "execution_count": 15,
   "metadata": {},
   "outputs": [
    {
     "name": "stdout",
     "output_type": "stream",
     "text": [
      "n = 25, k = 5, p = 3, q = 4\n",
      "Тоеретическая и  импирическая вероятность того, что:\n",
      " - каждое из выбраных чисел будет крантые p: 0.0033554432;  0.00345\n",
      " - каждое из выбраных чисел кратное хотя бы одному из 2 взаимно простых чисел p и q: 0.0253755392;  0.02469\n",
      " - стреди выбранных чисел есть хотя бы одно кратное p: 0.8546066432;  0.85465\n",
      "\n",
      "n = 15, k = 6, p = 2, q = 5\n",
      "Тоеретическая и  импирическая вероятность того, что:\n",
      " - каждое из выбраных чисел будет крантые p: 0.010328581618655693;  0.01\n",
      " - каждое из выбраных чисел кратное хотя бы одному из 2 взаимно простых чисел p и q: 0.04665038134430727;  0.04685\n",
      " - стреди выбранных чисел есть хотя бы одно кратное p: 0.9769859862825788;  0.97718\n",
      "\n"
     ]
    }
   ],
   "source": [
    "import itertools\n",
    "import numpy as np\n",
    "def task2(n, k, p, q):\n",
    "    def check(lst, state='t'):\n",
    "        def theor(arr):\n",
    "            return len(set(itertools.permutations(arr)))\n",
    "        def emp(arr):\n",
    "            return 1\n",
    "\n",
    "        a, b, c = 0, 0, 0\n",
    "        L = 0\n",
    "\n",
    "        func = None\n",
    "        if state == 't':\n",
    "            func = theor\n",
    "        elif state == 'e':\n",
    "            func = emp\n",
    "\n",
    "        for el in lst:\n",
    "            el1 = [x % p == 0 for x in el]\n",
    "            l = func(el)\n",
    "            L += l\n",
    "            if all(el1):\n",
    "                a += l\n",
    "                b += l\n",
    "                c += l\n",
    "            elif any(el1):\n",
    "                c += l\n",
    "                el2 = [x % p == 0 or x % q == 0 for x in el]\n",
    "                if all(el2):\n",
    "                    b += l\n",
    "        return a / L, b / L, c / L\n",
    "\n",
    "    \n",
    "    comb = list(itertools.combinations_with_replacement(list(range(1, n + 1)), r=k))\n",
    "    ev1, ev2, ev3 = check(comb)\n",
    "\n",
    "\n",
    "\n",
    "    rand = [np.random.choice(list(range(1, n + 1)), size=k, replace=True) for _ in range(100000)]\n",
    "    ev4, ev5, ev6 = check(rand, state='e')\n",
    "\n",
    "    print('n = {}, k = {}, p = {}, q = {}'.format(n, k, p, q))\n",
    "    print('Тоеретическая и  импирическая вероятность того, что:\\n'\n",
    "          ' - каждое из выбраных чисел будет крантые p: {};  {}\\n'\n",
    "          ' - каждое из выбраных чисел кратное хотя бы одному из 2 взаимно простых чисел p и q: {};  {}\\n'\n",
    "          ' - стреди выбранных чисел есть хотя бы одно кратное p: {};  {}\\n'.format(ev1, ev4, ev2, ev5, ev3, ev6))\n",
    "\n",
    "task2(25, 5, 3, 4)\n",
    "task2(15, 6, 2, 5)"
   ]
  },
  {
   "cell_type": "code",
   "execution_count": 16,
   "metadata": {},
   "outputs": [
    {
     "name": "stdout",
     "output_type": "stream",
     "text": [
      "n = 8, k = 4\n",
      "Теоретическая и импирическая вероятность того, что\n",
      " - отсутствуют парные ботинки: 0.01989121989121989;  0.02053\n",
      " - есть ровно 1 комплектная пара: 0.2784770784770785;  0.27802\n",
      " - есть 2 комплектные пары: 0.5221445221445221;  0.52081\n",
      "\n",
      "n = 13, k = 5\n",
      "Теоретическая и импирическая вероятность того, что\n",
      " - отсутствуют парные ботинки: 0.05513528065688518;  0.05534\n",
      " - есть ровно 1 комплектная пара: 0.31013595369497915;  0.31374\n",
      " - есть 2 комплектные пары: 0.4341903351729708;  0.43354\n",
      "\n"
     ]
    }
   ],
   "source": [
    "import itertools\n",
    "import numpy as np\n",
    "def task3(n, k):\n",
    "    def check(lst):\n",
    "        a, b, c = 0, 0, 0\n",
    "        L = len(lst)\n",
    "        for el in lst:\n",
    "            l = len(el)\n",
    "            l1 = len(set(el))\n",
    "            if l == l1:\n",
    "                a += 1\n",
    "            elif l - l1 == 1:\n",
    "                b += 1\n",
    "            elif l - l1 == 2:\n",
    "                c += 1\n",
    "        return a / L, b / L, c / L\n",
    "    \n",
    "    boots = [x for x in range(1, n+1)] * 2\n",
    "\n",
    "    comb = list(itertools.combinations(boots, r=2*k))\n",
    "    ev1, ev2, ev3 = check(comb)\n",
    "\n",
    "    \n",
    "\n",
    "    rand = [np.random.choice(boots, size=2*k, replace=False) for _ in range(100000)]\n",
    "    ev4, ev5, ev6 = check(rand)\n",
    "\n",
    "    print('n = {}, k = {}'.format(n, k))\n",
    "    print('Теоретическая и импирическая вероятность того, что\\n'\n",
    "          ' - отсутствуют парные ботинки: {};  {}\\n'\n",
    "          ' - есть ровно 1 комплектная пара: {};  {}\\n'\n",
    "          ' - есть 2 комплектные пары: {};  {}\\n'.format(ev1, ev4, ev2, ev5, ev3, ev6))\n",
    "\n",
    "task3(8, 4)\n",
    "task3(13, 5)"
   ]
  },
  {
   "cell_type": "code",
   "execution_count": 13,
   "metadata": {},
   "outputs": [
    {
     "name": "stdout",
     "output_type": "stream",
     "text": [
      "n = 10\n",
      "Тоеретическая вероятность\n",
      " -чётное число: 0.5205046299279228\n",
      " - нечётное число: 0.47949537007207726\n",
      "Импирическая вероятность\n",
      " - чётное число: 0.52218\n",
      " - нечётное число: 0.47782\n"
     ]
    }
   ],
   "source": [
    "from math import factorial\n",
    "import numpy as np\n",
    "\n",
    "def count_sum(lst):\n",
    "    s1, s2 = 0, 0\n",
    "    for i in range(0, len(lst), 2):\n",
    "            s2 += lst[i]\n",
    "            s1 += lst[i+1]\n",
    "    return s1, s2\n",
    "\n",
    "#взял n=10\n",
    "f = factorial(20)\n",
    "k = np.log(f)\n",
    "prob = [np.log(x) / k for x in range(1,21)]\n",
    "\n",
    "event1, event2 = count_sum(prob)\n",
    "print('n =', 10)\n",
    "print('Тоеретическая вероятность\\n -чётное число: {}\\n - нечётное число: {}'.format(event1, event2))\n",
    "\n",
    "\n",
    "numbers = np.random.choice(list(range(1, 21)), size=100000, replace=True, p=prob)\n",
    "event1 = len(list(filter(lambda x: x % 2 == 0, numbers))) / 100000\n",
    "print('Импирическая вероятность\\n - чётное число: {}\\n - нечётное число: {}'.format(event1, 1 - event1))\n",
    "\n"
   ]
  },
  {
   "cell_type": "code",
   "execution_count": null,
   "metadata": {},
   "outputs": [],
   "source": []
  }
 ],
 "metadata": {
  "kernelspec": {
   "display_name": "Python 3",
   "language": "python",
   "name": "python3"
  },
  "language_info": {
   "codemirror_mode": {
    "name": "ipython",
    "version": 3
   },
   "file_extension": ".py",
   "mimetype": "text/x-python",
   "name": "python",
   "nbconvert_exporter": "python",
   "pygments_lexer": "ipython3",
   "version": "3.6.7"
  }
 },
 "nbformat": 4,
 "nbformat_minor": 2
}
